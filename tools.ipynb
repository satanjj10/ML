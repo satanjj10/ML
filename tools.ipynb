{
  "nbformat": 4,
  "nbformat_minor": 0,
  "metadata": {
    "colab": {
      "name": "tools.ipynb",
      "provenance": [],
      "authorship_tag": "ABX9TyOxfN29HMOGyJPReTo1UwzA",
      "include_colab_link": true
    },
    "kernelspec": {
      "name": "python3",
      "display_name": "Python 3"
    },
    "language_info": {
      "name": "python"
    }
  },
  "cells": [
    {
      "cell_type": "markdown",
      "metadata": {
        "id": "view-in-github",
        "colab_type": "text"
      },
      "source": [
        "<a href=\"https://colab.research.google.com/github/satanjj10/tibaml0606/blob/main/tools.ipynb\" target=\"_parent\"><img src=\"https://colab.research.google.com/assets/colab-badge.svg\" alt=\"Open In Colab\"/></a>"
      ]
    },
    {
      "cell_type": "code",
      "execution_count": 1,
      "metadata": {
        "colab": {
          "base_uri": "https://localhost:8080/"
        },
        "id": "2ZsX4UyBzE4p",
        "outputId": "3e3b8e42-a32a-495f-df9a-64b34164cebe"
      },
      "outputs": [
        {
          "output_type": "stream",
          "name": "stdout",
          "text": [
            "Looking in indexes: https://pypi.org/simple, https://us-python.pkg.dev/colab-wheels/public/simple/\n",
            "Collecting opencc-python-reimplemented\n",
            "  Downloading opencc-python-reimplemented-0.1.6.tar.gz (484 kB)\n",
            "\u001b[K     |████████████████████████████████| 484 kB 16.3 MB/s \n",
            "\u001b[?25hBuilding wheels for collected packages: opencc-python-reimplemented\n",
            "  Building wheel for opencc-python-reimplemented (setup.py) ... \u001b[?25l\u001b[?25hdone\n",
            "  Created wheel for opencc-python-reimplemented: filename=opencc_python_reimplemented-0.1.6-py2.py3-none-any.whl size=486152 sha256=232320c1c11be26cc723459f4b380173d0d3f6aa24a8b6c9dbdc534c5bdbd8bb\n",
            "  Stored in directory: /root/.cache/pip/wheels/4e/e2/60/d062d260be08788bb389521544a8fc173de9a9a78d6a593344\n",
            "Successfully built opencc-python-reimplemented\n",
            "Installing collected packages: opencc-python-reimplemented\n",
            "Successfully installed opencc-python-reimplemented-0.1.6\n"
          ]
        }
      ],
      "source": [
        "!pip install opencc-python-reimplemented"
      ]
    },
    {
      "cell_type": "code",
      "source": [
        "#簡轉繁\n",
        "from opencc import OpenCC\n",
        "cc = OpenCC('s2tw')  # convert from Simplified Chinese to Traditional Chinese\n",
        "# can also set conversion by calling set_conversion\n",
        "# cc.set_conversion('s2tw')\n",
        "to_convert = '开放中文转换'\n",
        "converted = cc.convert(to_convert)\n",
        "converted"
      ],
      "metadata": {
        "colab": {
          "base_uri": "https://localhost:8080/",
          "height": 36
        },
        "id": "pe550SInzsiM",
        "outputId": "2650a1c9-92e3-4b24-8729-e452fb5fe49f"
      },
      "execution_count": 2,
      "outputs": [
        {
          "output_type": "execute_result",
          "data": {
            "text/plain": [
              "'開放中文轉換'"
            ],
            "application/vnd.google.colaboratory.intrinsic+json": {
              "type": "string"
            }
          },
          "metadata": {},
          "execution_count": 2
        }
      ]
    },
    {
      "cell_type": "code",
      "source": [
        "news = \"\"\"歐美受Omicron變異株' rel='Omicron變異株'>Omicron變異株的新亞型BA.4及BA.5影響，疫情再起，國外專家預測BA.5將成為全球新冠主流病毒株。國內昨天首度驗出BA.4及BA.5，共有五例，皆為機場入境攔截個案，指揮中心安排相關接觸者採檢，尚無擴散情形。\n",
        "\n",
        "指揮中心醫療應變組副組長羅一鈞表示，相較於BA.1、BA.2，新亞型BA.4、BA.5的傳播力約增加二成至三成，且具有很強的傳染力跟免疫逃脫，一旦進入社區傳播開來就會造成社區流行，可能提高民眾二次感染風險。\n",
        "\n",
        "毒性未較高 專家籲別恐慌\n",
        "長庚大學新興病毒研究中心主任施信如說，「台灣檢測到BA.4和BA.5一點都不意外」，這仍屬於Omicron變異株，預期台灣年底疫情可能會再起，但規模不會像現在這麼大，無須過於擔心。\n",
        "\n",
        "中國附醫副院長黃高彬表示，之前我國嚴守邊境，BA.1和BA.2依舊在國內造成大流行，而BA.4和BA.5的毒性並未較高，只要監控重症和死亡的人數，不須過於恐慌，應學習「和病毒共存」。\n",
        "\n",
        "全台確診人數 占人口12%\n",
        "昨天本土個案新增四萬五○八一例，一○九例死亡、中重症三七八例，新增個案為一個多月來新低。指揮中心疫情監測組組長周志浩表示，恐因前一天為周日關係，確診、死亡人數都較少，但疫情仍呈現北部降溫、中南部高原期的趨勢。\n",
        "\n",
        "各縣市新增病例皆未破萬，前六名為高雄市七一八四例、台中市六六九四例、新北市五四七○例、桃園市三九七一例、台南市三九六九例、彰化縣三五四五例。目前確診人數占人口比率百分之十二點四四，六都感染率以新北最高，超過一成八，其次為桃園市近一成六。\n",
        "\n",
        "新亞型變種 40多國檢出\n",
        "機場攔截五例BA.4、BA.5變異株為四男一女，年齡分布為三十至六十多歲，BA.4為智利入境的女性，BA.5二例來自美國、一例來自土耳其、一例來自波蘭，均為男性。\n",
        "\n",
        "Omicron新亞型變異株BA.4及BA.5分別於今年一月及二月於南非被發現，社區傳播能力超強，以致四至五月南非又掀起第五波疫情。\n",
        "\n",
        "ＷＨＯ六月八日資料指出，已有四十多個國家檢出BA.4及BA.5，且全球發現該二株變異株感染國家及病例數均持續增加，包括葡萄牙、英國、紐西蘭、新加坡、韓國、日本、香港都有出現案例。\n",
        "\n",
        "研究顯示，BA.4及BA.5傳染力雖高，但致重症機率無明顯較高\"\"\""
      ],
      "metadata": {
        "id": "dNLcS6H67Lya"
      },
      "execution_count": 3,
      "outputs": []
    },
    {
      "cell_type": "code",
      "source": [
        "#找出常用關鍵字\n",
        "import jieba.analyse\n",
        "jieba.analyse.extract_tags(news)\n",
        "#加權分數(重要性%數)\n",
        "jieba.analyse.extract_tags(news, withWeight = True)\n",
        "#抓出人名、地名、機構名、作品名、其他專名\n",
        "jieba.analyse.extract_tags(news, withWeight = True, allowPOS= [\"nr\", \"ns\", \"nt\", \"nw\", \"nz\"])\n",
        "#topK: return how many keywords with the highest TF/IDF weights. The default value is 20\n",
        "jieba.analyse.extract_tags(news, topK=None, withWeight = True, allowPOS= [\"nr\", \"ns\", \"nt\", \"nw\", \"nz\"])"
      ],
      "metadata": {
        "colab": {
          "base_uri": "https://localhost:8080/"
        },
        "id": "9luypv941RPD",
        "outputId": "70fc38df-4eac-4ab2-fa2e-c4f7c1b8a8db"
      },
      "execution_count": 12,
      "outputs": [
        {
          "output_type": "execute_result",
          "data": {
            "text/plain": [
              "[('新亞', 1.4943459378625),\n",
              " ('台灣', 0.74717296893125),\n",
              " ('桃園市', 0.74717296893125),\n",
              " ('南非', 0.480379347096875),\n",
              " ('歐美', 0.373586484465625),\n",
              " ('羅一鈞', 0.373586484465625),\n",
              " ('中國', 0.373586484465625),\n",
              " ('周志浩', 0.373586484465625),\n",
              " ('新北市', 0.373586484465625),\n",
              " ('新北', 0.373586484465625),\n",
              " ('多國', 0.373586484465625),\n",
              " ('美國', 0.373586484465625),\n",
              " ('波蘭', 0.373586484465625),\n",
              " ('英國', 0.373586484465625),\n",
              " ('紐西蘭', 0.373586484465625),\n",
              " ('韓國', 0.373586484465625),\n",
              " ('高雄市', 0.336411982375),\n",
              " ('台中市', 0.3325806598125),\n",
              " ('台南市', 0.3325806598125),\n",
              " ('智利', 0.26528223750375),\n",
              " ('中南部', 0.2621015283065625),\n",
              " ('葡萄牙', 0.2449756479078125),\n",
              " ('土耳其', 0.2321836921309375),\n",
              " ('新加坡', 0.22870789103375),\n",
              " ('香港', 0.181628620209375),\n",
              " ('日本', 0.156442016130625)]"
            ]
          },
          "metadata": {},
          "execution_count": 12
        }
      ]
    }
  ]
}