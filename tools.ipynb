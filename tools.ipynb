{
  "nbformat": 4,
  "nbformat_minor": 0,
  "metadata": {
    "colab": {
      "name": "tools.ipynb",
      "provenance": [],
      "authorship_tag": "ABX9TyNGZUw+aY3boX/N/UmPj7by",
      "include_colab_link": true
    },
    "kernelspec": {
      "name": "python3",
      "display_name": "Python 3"
    },
    "language_info": {
      "name": "python"
    }
  },
  "cells": [
    {
      "cell_type": "markdown",
      "metadata": {
        "id": "view-in-github",
        "colab_type": "text"
      },
      "source": [
        "<a href=\"https://colab.research.google.com/github/satanjj10/tibaml0606/blob/main/tools.ipynb\" target=\"_parent\"><img src=\"https://colab.research.google.com/assets/colab-badge.svg\" alt=\"Open In Colab\"/></a>"
      ]
    },
    {
      "cell_type": "code",
      "execution_count": 1,
      "metadata": {
        "colab": {
          "base_uri": "https://localhost:8080/"
        },
        "id": "2ZsX4UyBzE4p",
        "outputId": "3e3b8e42-a32a-495f-df9a-64b34164cebe"
      },
      "outputs": [
        {
          "output_type": "stream",
          "name": "stdout",
          "text": [
            "Looking in indexes: https://pypi.org/simple, https://us-python.pkg.dev/colab-wheels/public/simple/\n",
            "Collecting opencc-python-reimplemented\n",
            "  Downloading opencc-python-reimplemented-0.1.6.tar.gz (484 kB)\n",
            "\u001b[K     |████████████████████████████████| 484 kB 16.3 MB/s \n",
            "\u001b[?25hBuilding wheels for collected packages: opencc-python-reimplemented\n",
            "  Building wheel for opencc-python-reimplemented (setup.py) ... \u001b[?25l\u001b[?25hdone\n",
            "  Created wheel for opencc-python-reimplemented: filename=opencc_python_reimplemented-0.1.6-py2.py3-none-any.whl size=486152 sha256=232320c1c11be26cc723459f4b380173d0d3f6aa24a8b6c9dbdc534c5bdbd8bb\n",
            "  Stored in directory: /root/.cache/pip/wheels/4e/e2/60/d062d260be08788bb389521544a8fc173de9a9a78d6a593344\n",
            "Successfully built opencc-python-reimplemented\n",
            "Installing collected packages: opencc-python-reimplemented\n",
            "Successfully installed opencc-python-reimplemented-0.1.6\n"
          ]
        }
      ],
      "source": [
        "!pip install opencc-python-reimplemented"
      ]
    },
    {
      "cell_type": "code",
      "source": [
        "#簡轉繁\n",
        "from opencc import OpenCC\n",
        "cc = OpenCC('s2tw')  # convert from Simplified Chinese to Traditional Chinese\n",
        "# can also set conversion by calling set_conversion\n",
        "# cc.set_conversion('s2tw')\n",
        "to_convert = '开放中文转换'\n",
        "converted = cc.convert(to_convert)\n",
        "converted"
      ],
      "metadata": {
        "colab": {
          "base_uri": "https://localhost:8080/",
          "height": 36
        },
        "id": "pe550SInzsiM",
        "outputId": "2650a1c9-92e3-4b24-8729-e452fb5fe49f"
      },
      "execution_count": 2,
      "outputs": [
        {
          "output_type": "execute_result",
          "data": {
            "text/plain": [
              "'開放中文轉換'"
            ],
            "application/vnd.google.colaboratory.intrinsic+json": {
              "type": "string"
            }
          },
          "metadata": {},
          "execution_count": 2
        }
      ]
    },
    {
      "cell_type": "code",
      "source": [
        "news = \"\"\"歐美受Omicron變異株' rel='Omicron變異株'>Omicron變異株的新亞型BA.4及BA.5影響，疫情再起，國外專家預測BA.5將成為全球新冠主流病毒株。國內昨天首度驗出BA.4及BA.5，共有五例，皆為機場入境攔截個案，指揮中心安排相關接觸者採檢，尚無擴散情形。\n",
        "\n",
        "指揮中心醫療應變組副組長羅一鈞表示，相較於BA.1、BA.2，新亞型BA.4、BA.5的傳播力約增加二成至三成，且具有很強的傳染力跟免疫逃脫，一旦進入社區傳播開來就會造成社區流行，可能提高民眾二次感染風險。\n",
        "\n",
        "毒性未較高 專家籲別恐慌\n",
        "長庚大學新興病毒研究中心主任施信如說，「台灣檢測到BA.4和BA.5一點都不意外」，這仍屬於Omicron變異株，預期台灣年底疫情可能會再起，但規模不會像現在這麼大，無須過於擔心。\n",
        "\n",
        "中國附醫副院長黃高彬表示，之前我國嚴守邊境，BA.1和BA.2依舊在國內造成大流行，而BA.4和BA.5的毒性並未較高，只要監控重症和死亡的人數，不須過於恐慌，應學習「和病毒共存」。\n",
        "\n",
        "全台確診人數 占人口12%\n",
        "昨天本土個案新增四萬五○八一例，一○九例死亡、中重症三七八例，新增個案為一個多月來新低。指揮中心疫情監測組組長周志浩表示，恐因前一天為周日關係，確診、死亡人數都較少，但疫情仍呈現北部降溫、中南部高原期的趨勢。\n",
        "\n",
        "各縣市新增病例皆未破萬，前六名為高雄市七一八四例、台中市六六九四例、新北市五四七○例、桃園市三九七一例、台南市三九六九例、彰化縣三五四五例。目前確診人數占人口比率百分之十二點四四，六都感染率以新北最高，超過一成八，其次為桃園市近一成六。\n",
        "\n",
        "新亞型變種 40多國檢出\n",
        "機場攔截五例BA.4、BA.5變異株為四男一女，年齡分布為三十至六十多歲，BA.4為智利入境的女性，BA.5二例來自美國、一例來自土耳其、一例來自波蘭，均為男性。\n",
        "\n",
        "Omicron新亞型變異株BA.4及BA.5分別於今年一月及二月於南非被發現，社區傳播能力超強，以致四至五月南非又掀起第五波疫情。\n",
        "\n",
        "ＷＨＯ六月八日資料指出，已有四十多個國家檢出BA.4及BA.5，且全球發現該二株變異株感染國家及病例數均持續增加，包括葡萄牙、英國、紐西蘭、新加坡、韓國、日本、香港都有出現案例。\n",
        "\n",
        "研究顯示，BA.4及BA.5傳染力雖高，但致重症機率無明顯較高\"\"\""
      ],
      "metadata": {
        "id": "dNLcS6H67Lya"
      },
      "execution_count": 3,
      "outputs": []
    },
    {
      "cell_type": "code",
      "source": [
        "#分詞: 1.載入大辭典 2.載入自定義辭典\n",
        "import jieba\n",
        "from urllib.request import urlretrieve\n",
        "url = \"https://raw.githubusercontent.com/fxsjy/jieba/master/extra_dict/dict.txt.big\"\n",
        "urlretrieve(url, \"dict.txt.big\")\n",
        "jieba.set_dictionary(\"dict.txt.big\")\n",
        "jieba.load_userdict(\"dict.news.txt\")"
      ],
      "metadata": {
        "colab": {
          "base_uri": "https://localhost:8080/"
        },
        "id": "5cWLKC0EFnAF",
        "outputId": "19b94e6d-a1eb-4724-db6c-a6a64b55adbf"
      },
      "execution_count": 21,
      "outputs": [
        {
          "output_type": "stream",
          "name": "stderr",
          "text": [
            "Building prefix dict from /content/dict.txt.big ...\n",
            "Dumping model to file cache /tmp/jieba.u501edca284da514cb68b53a20324f4e3.cache\n",
            "Loading model cost 2.215 seconds.\n",
            "Prefix dict has been built successfully.\n"
          ]
        }
      ]
    },
    {
      "cell_type": "code",
      "source": [
        "#中文增加空白鍵辨識分詞\n",
        "import jieba\n",
        "\" \".join(jieba.cut(news))"
      ],
      "metadata": {
        "colab": {
          "base_uri": "https://localhost:8080/",
          "height": 140
        },
        "id": "b-CjX6iRCT8q",
        "outputId": "cf462826-56c2-4693-a301-7067f46579b7"
      },
      "execution_count": 22,
      "outputs": [
        {
          "output_type": "execute_result",
          "data": {
            "text/plain": [
              "\"歐美 受 Omicron 變異株 '   rel = ' Omicron 變異株 ' > Omicron 變異株 的 新亞型 BA.4 及 BA.5 影響 ， 疫情 再起 ， 國外 專家 預測 BA.5 將 成為 全球 新冠 主流 病毒株 。 國內 昨天 首度 驗出 BA.4 及 BA.5 ， 共有 五例 ， 皆 為 機場 入境 攔截 個案 ， 指揮中心 安排 相關 接觸者 採檢 ， 尚無 擴散 情形 。 \\n \\n 指揮中心 醫療 應變組 副組長 羅 一鈞 表示 ， 相較 於 BA.1 、 BA.2 ， 新亞型 BA.4 、 BA.5 的 傳播力 約 增加 二成 至 三成 ， 且 具有 很強 的 傳染 力 跟 免疫 逃脫 ， 一旦 進入 社區 傳播 開來 就 會 造成 社區 流行 ， 可能 提高 民眾 二次 感染 風險 。 \\n \\n 毒性 未較 高   專家 籲別 恐慌 \\n 長庚 大學 新興 病毒 研究 中心 主任 施信 如 說 ， 「 台灣 檢測 到 BA.4 和 BA.5 一點 都 不 意外 」 ， 這仍 屬於 Omicron 變異株 ， 預期 台灣 年底 疫情 可能 會 再起 ， 但 規模 不會 像 現在 這麼 大 ， 無須 過於 擔心 。 \\n \\n 中國 附醫 副 院長 黃 高彬 表示 ， 之前 我國 嚴守 邊境 ， BA.1 和 BA.2 依舊 在 國內 造成 大 流行 ， 而 BA.4 和 BA.5 的 毒性 並未 較 高 ， 只要 監控 重症 和 死亡 的 人數 ， 不須 過於 恐慌 ， 應 學習 「 和 病毒 共存 」 。 \\n \\n 全台 確診 人數   占 人口 12% \\n 昨天 本土 個案 新增 四萬 五 ○ 八一 例 ， 一 ○ 九例 死亡 、 中 重症 三 七八 例 ， 新增 個案 為 一個多月 來 新低 。 指揮中心 疫情 監測 組組長 周志浩 表示 ， 恐因 前一天 為 周日 關係 ， 確診 、 死亡 人數 都 較 少 ， 但 疫情 仍 呈現 北部 降溫 、 中南部 高原期 的 趨勢 。 \\n \\n 各縣市 新增 病例 皆 未 破 萬 ， 前 六名 為 高雄市 七 一八 四例 、 台中市 六六 九四 例 、 新北市 五四 七 ○ 例 、 桃園市 三九 七 一例 、 台南市 三九 六九 例 、 彰化縣 三 五四 五例 。 目前 確診 人數 占 人口 比率 百分之 十二點 四四 ， 六 都 感染率 以新北 最高 ， 超過 一成 八 ， 其次 為 桃園市 近 一成 六 。 \\n \\n 新亞型 變種   40 多國 檢出 \\n 機場 攔截 五例 BA.4 、 BA.5 變異株 為 四男 一女 ， 年齡 分布 為 三十 至 六十多歲 ， BA.4 為 智利 入境 的 女性 ， BA.5 二例 來自 美國 、 一例 來自 土耳其 、 一例 來自 波蘭 ， 均 為 男性 。 \\n \\n Omicron 新亞型 變異株 BA.4 及 BA.5 分別 於今 年 一月 及 二月 於 南非 被 發現 ， 社區 傳播 能力 超強 ， 以致 四至 五月 南非 又 掀起 第五 波 疫情 。 \\n \\n Ｗ Ｈ Ｏ 六月 八日 資料 指出 ， 已有 四十多個 國家 檢出 BA.4 及 BA.5 ， 且 全球 發現 該 二株 變異株 感染 國家 及病 例數 均 持續 增加 ， 包括 葡萄牙 、 英國 、 紐西蘭 、 新加坡 、 韓國 、 日本 、 香港 都 有 出現 案例 。 \\n \\n 研究 顯示 ， BA.4 及 BA.5 傳染 力 雖高 ， 但致 重症 機率 無 明顯 較 高\""
            ],
            "application/vnd.google.colaboratory.intrinsic+json": {
              "type": "string"
            }
          },
          "metadata": {},
          "execution_count": 22
        }
      ]
    },
    {
      "cell_type": "code",
      "source": [
        "#找出常用關鍵字\n",
        "import jieba.analyse\n",
        "jieba.analyse.extract_tags(news)\n",
        "#加權分數(重要性%數)\n",
        "jieba.analyse.extract_tags(news, withWeight = True)\n",
        "#抓出人名、地名、機構名、作品名、其他專名\n",
        "jieba.analyse.extract_tags(news, withWeight = True, allowPOS= [\"nr\", \"ns\", \"nt\", \"nw\", \"nz\"])\n",
        "#topK: return how many keywords with the highest TF/IDF weights. The default value is 20\n",
        "jieba.analyse.extract_tags(news, topK=None, withWeight = True, allowPOS= [\"nr\", \"ns\", \"nt\", \"nw\", \"nz\"])"
      ],
      "metadata": {
        "colab": {
          "base_uri": "https://localhost:8080/"
        },
        "id": "9luypv941RPD",
        "outputId": "c0d1cc64-985a-40a3-d52f-717d159fa859"
      },
      "execution_count": 17,
      "outputs": [
        {
          "output_type": "execute_result",
          "data": {
            "text/plain": [
              "[('台灣', 1.2583965792526315),\n",
              " ('南非', 0.8090599530052632),\n",
              " ('羅一鈞', 0.6291982896263157),\n",
              " ('周志浩', 0.6291982896263157),\n",
              " ('新北市', 0.6291982896263157),\n",
              " ('新北', 0.6291982896263157),\n",
              " ('多國', 0.6291982896263157),\n",
              " ('高雄市', 0.5665886018947368),\n",
              " ('台中市', 0.5601358481052632),\n",
              " ('台南市', 0.5601358481052632),\n",
              " ('智利', 0.4467911368484211),\n",
              " ('中南部', 0.4414341529373685),\n",
              " ('葡萄牙', 0.41259056489736845),\n",
              " ('土耳其', 0.3910462183257895),\n",
              " ('新加坡', 0.38519223753052634),\n",
              " ('香港', 0.3059008340368421),\n",
              " ('日本', 0.2634812903252632)]"
            ]
          },
          "metadata": {},
          "execution_count": 17
        }
      ]
    }
  ]
}